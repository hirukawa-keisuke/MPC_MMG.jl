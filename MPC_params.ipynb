{
 "cells": [
  {
   "cell_type": "code",
   "execution_count": 19,
   "metadata": {},
   "outputs": [],
   "source": [
    "using ShipMMG\n",
    "using JuMP\n",
    "using Ipopt\n",
    "using CSV, DataFrames, ProgressMeter, Distributions"
   ]
  },
  {
   "cell_type": "code",
   "execution_count": 20,
   "metadata": {},
   "outputs": [
    {
     "data": {
      "text/plain": [
       "T_P (generic function with 1 method)"
      ]
     },
     "metadata": {},
     "output_type": "display_data"
    }
   ],
   "source": [
    "# 船体に働く流体力\n",
    "function X_H(u, v, r)\n",
    "    U = sqrt(u^2 + (v - r * x_G)^2)\n",
    "    β = asin(-(v - r * x_G) / U)\n",
    "    r_dash = r * L_pp / U\n",
    "    v_dash = v / U\n",
    "    return 0.5 * ρ * L_pp * d * U^2 * X_H_dash(v_dash, r_dash)\n",
    "end\n",
    "\n",
    "function Y_H(u, v, r)\n",
    "    U = sqrt(u^2 + (v - r * x_G)^2)\n",
    "    β = asin(-(v - r * x_G) / U)\n",
    "    r_dash = r * L_pp / U\n",
    "    v_dash = v / U\n",
    "    return 0.5 * ρ * L_pp * d * U^2 * Y_H_dash(v_dash, r_dash)\n",
    "end\n",
    "\n",
    "function N_H(u, v, r)\n",
    "    U = sqrt(u^2 + (v - r * x_G)^2)\n",
    "    β = asin(-(v - r * x_G) / U)\n",
    "    r_dash = r * L_pp / U\n",
    "    v_dash = v / U\n",
    "    return 0.5 * ρ * L_pp^2 * d * U^2 * N_H_dash(v_dash, r_dash)\n",
    "end\n",
    "\n",
    "# 船体に働く流体力(無次元)\n",
    "function X_H_dash(β, r_dash)\n",
    "    return -R_0_dash + X_vv_dash*β^2 + X_vr_dash*β*r_dash + X_rr_dash*r_dash^2 + X_vvvv_dash*β^4\n",
    "end\n",
    "\n",
    "function Y_H_dash(β, r_dash)\n",
    "    return Y_v_dash*β + Y_r_dash*r_dash + Y_vvr_dash*β^2*r_dash + Y_vrr_dash*β*r_dash^2 + Y_vvv_dash*β^3 + Y_rrr_dash*r_dash^3\n",
    "end\n",
    "\n",
    "function N_H_dash(β, r_dash)\n",
    "    return N_v_dash*β + N_r_dash*r_dash + N_vvr_dash*β^2*r_dash + N_vrr_dash*β*r_dash^2 + N_vvv_dash*β^3 + N_rrr_dash*r_dash^3\n",
    "end\n",
    "\n",
    "# 舵に働く力\n",
    "function X_R(u, v, r, δ, n_p)\n",
    "    return -(1 - t_R) * F_N(u, v, r, δ, n_p) * sin(δ)\n",
    "end\n",
    "\n",
    "function Y_R(u, v, r, δ, n_p)\n",
    "    return -(1 + a_H) * F_N(u, v, r, δ, n_p) * cos(δ)\n",
    "end\n",
    "\n",
    "function N_R(u, v, r, δ, n_p)\n",
    "    return -(x_R + a_H * x_H) * F_N(u, v, r, δ, n_p) * cos(δ)\n",
    "end\n",
    "\n",
    "function F_N(u, v, r, δ, n_p)\n",
    "    U = sqrt(u^2 + (v - r * x_G)^2)\n",
    "    β = asin(-(v - r * x_G) / U)\n",
    "    r_dash = r * L_pp / U\n",
    "    w_P = w_P0 * exp(-4.0 * (β - x_P * r_dash)^2)\n",
    "    u_p = (1 - w_P) * u\n",
    "    u_R = ϵ * u_p * sqrt(η * (1 + κ * (sqrt(1 + (8 * K_T(u, v, r, n_p)) / (π * J(u, v, r, n_p)^2)) - 1))^2 + (1 - η))\n",
    "    β_R = β - l_R * r_dash\n",
    "    if β_R < 0.0\n",
    "        γ_R = γ_R_minus\n",
    "    else\n",
    "        γ_R = γ_R_plus\n",
    "    end \n",
    "    v_R = U * γ_R * (β - l_r_dash * r_dash)\n",
    "    α_R = δ - atan(v_R, u_R)\n",
    "    U_R = sqrt(u_R^2 + v_R^2)\n",
    "    return 0.5 * ρ * A_R * U_R^2 * f_α * sin(α_R)\n",
    "end\n",
    "\n",
    "# プロペラに働く力\n",
    "function X_P(u, v, r, δ, n_p)\n",
    "    return (1 - t_P) * T_P(u, v, r, n_p)\n",
    "end\n",
    "\n",
    "function K_T(u, v, r, n_p)\n",
    "    return k_0 + k_1 * J(u, v, r, n_p) + k_2 * J(u, v, r, n_p)^2\n",
    "end\n",
    "\n",
    "function J(u, v, r, n_p)\n",
    "    U = sqrt(u^2 + (v - r * x_G)^2)\n",
    "    β = atan(-v, u)\n",
    "    r_dash = r * L_pp / U\n",
    "    w_P = w_P0 * exp(-4.0 * (β - x_P * r_dash)^2)\n",
    "    return u * (1 - w_P) / (n_p * D_p)\n",
    "end\n",
    "\n",
    "function T_P(u, v, r, n_p)\n",
    "    return K_T(u, v, r, n_p) * ρ * n_p^2 * D_p^4\n",
    "end"
   ]
  },
  {
   "cell_type": "code",
   "execution_count": 21,
   "metadata": {},
   "outputs": [
    {
     "data": {
      "text/plain": [
       "-0.11"
      ]
     },
     "metadata": {},
     "output_type": "display_data"
    }
   ],
   "source": [
    "# パラメータを定義\n",
    "const ρ = 1025.0\n",
    "const L_pp = 3.50\n",
    "const B = 0.57  \n",
    "const d = 0.16  \n",
    "const nabla = 0.7407 * L_pp * B * d \n",
    "const x_G = 0.0112 \n",
    "const D_p = 0.03373 * L_pp \n",
    "const m = nabla * ρ \n",
    "const I_zG = m * ((0.25 * L_pp)^2)\n",
    "const A_R = 0.0189  \n",
    "const η = 0.8023  \n",
    "const m_x = 0.0475 * m \n",
    "const m_y = 0.6739 * m \n",
    "const J_z = 0.0306 * m * (L_pp^2) \n",
    "const f_α = 2.634 \n",
    "const ϵ = 1.345\n",
    "const t_R = 0.084\n",
    "const a_H = 0.054\n",
    "const x_H = -0.388 * L_pp\n",
    "const γ_R_minus = 0.225 \n",
    "const γ_R_plus = 0.574 \n",
    "const l_r_dash = -0.641 \n",
    "const l_R = -0.641  \n",
    "const κ = 0.482\n",
    "const t_P = 0.180 \n",
    "const w_P0 = 0.40  \n",
    "const x_P = -0.490 \n",
    "const x_R = -0.500 * L_pp\n",
    "\n",
    "const k_0 = 0.3516\n",
    "const k_1 = -0.3624\n",
    "const k_2 = -0.1100"
   ]
  },
  {
   "cell_type": "code",
   "execution_count": 22,
   "metadata": {},
   "outputs": [
    {
     "data": {
      "text/plain": [
       "-0.0157"
      ]
     },
     "metadata": {},
     "output_type": "display_data"
    }
   ],
   "source": [
    "R_0_dash = 0.0160\n",
    "X_vv_dash = -0.0639\n",
    "X_vr_dash = 0.0813\n",
    "X_rr_dash = -0.0141\n",
    "X_vvvv_dash = 0.4563\n",
    "Y_v_dash = -0.2969\n",
    "Y_r_dash = 0.0576\n",
    "Y_vvv_dash = -0.8428\n",
    "Y_vvr_dash = 0.1656\n",
    "Y_vrr_dash = -0.2045\n",
    "Y_rrr_dash = 0.0176\n",
    "N_v_dash = -0.0878\n",
    "N_r_dash = -0.0422\n",
    "N_vvv_dash = -0.0426\n",
    "N_vvr_dash = -0.2290\n",
    "N_vrr_dash = -0.0165\n",
    "N_rrr_dash = -0.0157"
   ]
  },
  {
   "cell_type": "code",
   "execution_count": 23,
   "metadata": {},
   "outputs": [
    {
     "data": {
      "text/plain": [
       "mpc (generic function with 1 method)"
      ]
     },
     "metadata": {},
     "output_type": "display_data"
    }
   ],
   "source": [
    "function mpc(f_x_t::Vector{Float64}, u1_t::Float64, u2_t::Float64, f_obs::DataFrame ,t::Int, N::Int)\n",
    "    # モデル作成\n",
    "    model = Model(Ipopt.Optimizer) # Ipoptを使用\n",
    "    set_silent(model) # 計算の進行状況を非表示\n",
    "    L_f = 1.0 # センサー位置(船首)\n",
    "    L_t = 1.0 # センサー位置(船尾)\n",
    "    Q = 1.0 # 座標誤差への重み\n",
    "    R1 = 1.0 # 制御量変化(δ)への重み\n",
    "    R2 = 1.0 # 制御量変化(np)への重み\n",
    "\n",
    "    # 方程式を登録\n",
    "    register(model, :X_H, 3, X_H; autodiff = true)\n",
    "    register(model, :Y_H, 3, Y_H; autodiff = true)\n",
    "    register(model, :N_H, 3, N_H; autodiff = true)\n",
    "    register(model, :X_H_dash, 2, X_H_dash; autodiff = true)\n",
    "    register(model, :Y_H_dash, 2, Y_H_dash; autodiff = true)\n",
    "    register(model, :N_H_dash, 2, N_H_dash; autodiff = true)\n",
    "    register(model, :X_R, 5, X_R; autodiff = true)\n",
    "    register(model, :Y_R, 5, Y_R; autodiff = true)\n",
    "    register(model, :N_R, 5, N_R; autodiff = true)\n",
    "    register(model, :F_N, 5, F_N; autodiff = true)\n",
    "    register(model, :X_P, 5, X_P; autodiff = true)\n",
    "    register(model, :K_T, 4, K_T; autodiff = true)\n",
    "    register(model, :J, 4, J; autodiff = true)\n",
    "    register(model, :T_P, 4, T_P; autodiff = true)\n",
    "    \n",
    "    # 使用する変数を設定\n",
    "    x = @variable(model, [t:t+N+1, 1:10]) # 操作量 x\n",
    "    u1 = @variable(model, [t:t+N, 1:1]) # 制御量 u1\n",
    "    u2 = @variable(model, [t:t+N, 1:1]) # 制御量 u2\n",
    "\n",
    "    # 制御量の制約条件\n",
    "    @variable(model, 0.0 <= u1[t:t+N, 1:1] <= 1.0) \n",
    "    @variable(model, 0.0 <= u2[t:t+N, 1:1] <= 40.0)\n",
    "    \n",
    "    # 操作量の箱を作成\n",
    "    for k in t:t+N+1\n",
    "        set_start_value.(x[k, 1], f_x_t[1])\n",
    "        set_start_value.(x[k, 2], f_x_t[2])\n",
    "        set_start_value.(x[k, 3], f_x_t[3])\n",
    "        set_start_value.(x[k, 4], f_x_t[4])\n",
    "        set_start_value.(x[k, 5], f_x_t[5])\n",
    "        set_start_value.(x[k, 6], f_x_t[6])\n",
    "        set_start_value.(x[k, 7], f_x_t[7])\n",
    "        set_start_value.(x[k, 8], f_x_t[8])\n",
    "        set_start_value.(x[k, 9], f_x_t[9])\n",
    "        set_start_value.(x[k, 10], f_x_t[10])  \n",
    "    end\n",
    "    \n",
    "    # 初期状態(t)での変数xの設定\n",
    "    for i in 1:10\n",
    "        @constraint(model, x[t, i] == f_x_t[i])\n",
    "    end\n",
    "\n",
    "    # MMGを用いた制約\n",
    "    for k in t:t+N\n",
    "        @NLconstraint(model, x[k+1,1] == x[k,1] + dt * ((X_H(x[k,1], x[k,2], x[k,3]) + X_R(x[k,1], x[k,2], x[k,3], u1[k,1], u2[k,1]) + X_P(x[k,1], x[k,2], x[k,3], u1[k,1], u2[k,1]) + (m+m_y)*x[k,2]*x[k,3] + x_G*m*(x[k,3])^2) / (m+m_x)))\n",
    "        @NLconstraint(model, x[k+1,2] == x[k,2] + dt * ((x_G^2) * (m^2) * x[k,1] * x[k,3] - (N_H(x[k,1], x[k,2], x[k,3])+N_R(x[k,1], x[k,2], x[k,3], u1[k,1], u2[k,1])) * x_G * m +((Y_H(x[k,1], x[k,2], x[k,3]) + Y_R(x[k,1], x[k,2], x[k,3], u1[k,1], u2[k,1])) - (m + m_x) * x[k,1] * x[k,3]) * (I_zG + J_z + (x_G^2) * m)) / ((I_zG + J_z + (x_G^2) * m) * (m + m_y) - (x_G^2) * (m^2)))\n",
    "        @NLconstraint(model, x[k+1,3] == x[k,3] + dt * (N_H(x[k,1], x[k,2], x[k,3]) + N_R(x[k,1], x[k,2], x[k,3], u1[k,1], u2[k,1]) - x_G * m * (((x_G^2) * (m^2) * x[k,1] * x[k,3] - (N_H(x[k,1], x[k,2], x[k,3])+N_R(x[k,1], x[k,2], x[k,3], u1[k,1], u2[k,1])) * x_G * m +((Y_H(x[k,1], x[k,2], x[k,3]) + Y_R(x[k,1], x[k,2], x[k,3], u1[k,1], u2[k,1])) - (m + m_x) * x[k,1] * x[k,3]) * (I_zG + J_z + (x_G^2) * m)) / ((I_zG + J_z + (x_G^2) * m) * (m + m_y) - (x_G^2) * (m^2)) + x[k,1] * x[k,3])) / (I_zG + J_z + (x_G^2) * m))\n",
    "        @NLconstraint(model, x[k+1,4] == x[k,4] + dt * (x[k,1] * cos(x[k,6]) - x[k,2] * sin(x[k,6])))\n",
    "        @NLconstraint(model, x[k+1,5] == x[k,5] + dt * (x[k,1] * sin(x[k,6]) + x[k,2] * cos(x[k,6])))\n",
    "        @NLconstraint(model, x[k+1,6] == x[k,6] + dt * (x[k,3]))\n",
    "        @NLconstraint(model, x[k+1,7] == x[k+1,4] + L_f * cos(x[k+1,6]))\n",
    "        @NLconstraint(model, x[k+1,8] == x[k+1,5] + L_f * sin(x[k+1,6]))\n",
    "        @NLconstraint(model, x[k+1,9] == x[k+1,4] + L_t * cos(x[k+1,6] + pi))\n",
    "        @NLconstraint(model, x[k+1,10] == x[k+1,5] + L_t * sin(x[k+1,6] + pi))\n",
    "    end\n",
    "    # 制御量変化の制約\n",
    "    if t != 1\n",
    "        @NLconstraint(model, -0.02 <= (u1[t,1] - u1_t) <= 0.02)\n",
    "        @NLconstraint(model, -1.0 <= (u2[t,1] - u2_t) <= 1.0)\n",
    "    end\n",
    "    for k in t:t+N-1\n",
    "        @NLconstraint(model, -0.02 <= (u1[k+1,1] - u1[k,1]) <= 0.02)\n",
    "        @NLconstraint(model, -1.0 <= (u2[k+1,1] - u2[k,1]) <= 1.0)\n",
    "    end\n",
    "\n",
    "    #評価関数の設定\n",
    "    @NLobjective(model, Min, sum((Q*((x[k,7]-f_obs[k,12])^2 +(x[k,8]-f_obs[k,13])^2 +(x[k,9]-f_obs[k,14])^2 +(x[k,10]-f_obs[k,15])^2 + (x[t+N+1,7]-f_obs[t+N+1,12])^2 +(x[t+N+1,8]-f_obs[t+N+1,13])^2 +(x[t+N+1,9]-f_obs[t+N+1,14])^2 +(x[t+N+1,10]-f_obs[t+N+1,15])^2)+R1*((u1[k,1]-u1[k-1,1])^2) + R2*((u2[k,1]-u2[k-1,1])^2)) for k in t+1:t+N))\n",
    "    \n",
    "    # 最適化の実行\n",
    "    optimize!(model)\n",
    "    \n",
    "    # 次点の操作量x(t+1)とそれに用いた制御量u(t)の値を返す\n",
    "    return value.(x[t+1,1:10]), value.(u1[t,1]), value.(u2[t,1]) # 最適化後の入力x・制御量u\n",
    "end"
   ]
  },
  {
   "cell_type": "code",
   "execution_count": 24,
   "metadata": {},
   "outputs": [
    {
     "data": {
      "text/plain": [
       "realMMG (generic function with 1 method)"
      ]
     },
     "metadata": {},
     "output_type": "display_data"
    }
   ],
   "source": [
    "function realMMG(x_0::Vector{Float64}, u1_val::Float64, u2_val::Float64)\n",
    "    global R_0_dash, X_vv_dash, X_vr_dash, X_rr_dash, X_vvvv_dash\n",
    "    global Y_v_dash, Y_r_dash, Y_vvv_dash, Y_vvr_dash, Y_vrr_dash, Y_rrr_dash\n",
    "    global N_v_dash, N_r_dash, N_vvv_dash, N_vvr_dash, N_vrr_dash, N_rrr_dash\n",
    "    \n",
    "    L_f = 1.0 # センサー位置(船首)\n",
    "    L_t = 1.0 # センサー位置(船尾)\n",
    "\n",
    "    R_0_dash = 0.020\n",
    "    X_vv_dash = -0.0799\n",
    "    X_vr_dash = 0.1016\n",
    "    X_rr_dash = -0.0176\n",
    "    X_vvvv_dash = 0.5704\n",
    "    Y_v_dash = -0.3711\n",
    "    Y_r_dash = 0.0720\n",
    "    Y_vvv_dash = -1.0535\n",
    "    Y_vvr_dash = 0.207\n",
    "    Y_vrr_dash = -0.2556\n",
    "    Y_rrr_dash = 0.0220\n",
    "    N_v_dash = -0.1097\n",
    "    N_r_dash = -0.0527\n",
    "    N_vvv_dash = -0.0533\n",
    "    N_vvr_dash = -0.2863\n",
    "    N_vrr_dash = -0.0206\n",
    "    N_rrr_dash = -0.0196\n",
    "    \n",
    "    u_real = rand(Normal(0.0, 0.01)) + (x_0[1] + dt * ((X_H(x_0[1], x_0[2], x_0[3]) + X_R(x_0[1], x_0[2], x_0[3], u1_val[1], u2_val[1]) + X_P(x_0[1], x_0[2], x_0[3], u1_val[1], u2_val[1]) + (m+m_y)*x_0[2]*x_0[3] + x_G*m*(x_0[3])^2) / (m+m_x)))\n",
    "    v_real = rand(Normal(0.0, 0.01)) + (x_0[2] + dt * (((x_G^2) * (m^2) * x_0[1] * x_0[3] - (N_H(x_0[1], x_0[2], x_0[3])+N_R(x_0[1], x_0[2], x_0[3], u1_val[1], u2_val[1])) * x_G * m +((Y_H(x_0[1], x_0[2], x_0[3]) + Y_R(x_0[1], x_0[2], x_0[3], u1_val[1], u2_val[1])) - (m + m_x) * x_0[1] * x_0[3]) * (I_zG + J_z + (x_G^2) * m)) / ((I_zG + J_z + (x_G^2) * m) * (m + m_y) - (x_G^2) * (m^2))))\n",
    "    r_real = rand(Normal(0.0, 0.001)) + (x_0[3] + dt * ((N_H(x_0[1], x_0[2], x_0[3]) + N_R(x_0[1], x_0[2], x_0[3], u1_val[1], u2_val[1]) - x_G * m * (((x_G^2) * (m^2) * x_0[1] * x_0[3] - (N_H(x_0[1], x_0[2], x_0[3])+N_R(x_0[1], x_0[2], x_0[3], u1_val[1], u2_val[1])) * x_G * m +((Y_H(x_0[1], x_0[2], x_0[3]) + Y_R(x_0[1], x_0[2], x_0[3], u1_val[1], u2_val[1])) - (m + m_x) * x_0[1] * x_0[3]) * (I_zG + J_z + (x_G^2) * m)) / ((I_zG + J_z + (x_G^2) * m) * (m + m_y) - (x_G^2) * (m^2)) + x_0[1] * x_0[3])) / (I_zG + J_z + (x_G^2) * m)))\n",
    "    x_real = x_0[4] + dt * (x_0[1] * cos(x_0[6]) - x_0[2] * sin(x_0[6]))\n",
    "    y_real = x_0[5] + dt * (x_0[1] * sin(x_0[6]) + x_0[2] * cos(x_0[6]))\n",
    "    ψ_real = x_0[6] + dt * (x_0[3])\n",
    "    x1_real = x_real + L_f * cos(ψ_real)\n",
    "    y1_real = y_real + L_f * sin(ψ_real)\n",
    "    x2_real = x_real + L_t * cos(ψ_real + pi)\n",
    "    y2_real = y_real + L_t * sin(ψ_real + pi)\n",
    "    \n",
    "    return u_real, v_real, r_real, x_real, y_real, ψ_real, x1_real, y1_real, x2_real, y2_real\n",
    "end     "
   ]
  },
  {
   "cell_type": "code",
   "execution_count": 25,
   "metadata": {},
   "outputs": [
    {
     "data": {
      "text/plain": [
       "MMG_error (generic function with 1 method)"
      ]
     },
     "metadata": {},
     "output_type": "display_data"
    }
   ],
   "source": [
    "function MMG_error(p::Vector{Float64}, x_0::Vector{Float64}, u1_val::Float64, u2_val::Float64, u_real::Float64, v_real::Float64, r_real::Float64)\n",
    "    global R_0_dash, X_vv_dash, X_vr_dash, X_rr_dash, X_vvvv_dash\n",
    "    global Y_v_dash, Y_r_dash, Y_vvv_dash, Y_vvr_dash, Y_vrr_dash, Y_rrr_dash\n",
    "    global N_v_dash, N_r_dash, N_vvv_dash, N_vvr_dash, N_vrr_dash, N_rrr_dash\n",
    "    \n",
    "    R_0_dash = p[1]\n",
    "    X_vv_dash = p[2]\n",
    "    X_vr_dash = p[3]\n",
    "    X_rr_dash = p[4]\n",
    "    X_vvvv_dash = p[5]\n",
    "    Y_v_dash = p[6]\n",
    "    Y_r_dash = p[7]\n",
    "    Y_vvv_dash = p[8]\n",
    "    Y_vvr_dash = p[9]\n",
    "    Y_vrr_dash = p[10]\n",
    "    Y_rrr_dash = p[11]\n",
    "    N_v_dash = p[12]\n",
    "    N_r_dash = p[13]\n",
    "    N_vvv_dash = p[14]\n",
    "    N_vvr_dash = p[15]\n",
    "    N_vrr_dash = p[16]\n",
    "    N_rrr_dash = p[17]\n",
    "    \n",
    "    u = x_0[1] + dt * ((X_H(x_0[1], x_0[2], x_0[3]) + X_R(x_0[1], x_0[2], x_0[3], u1_val[1], u2_val[1]) + X_P(x_0[1], x_0[2], x_0[3], u1_val[1], u2_val[1]) + (m+m_y)*x_0[2]*x_0[3] + x_G*m*(x_0[3])^2) / (m+m_x))\n",
    "    v = x_0[2] + dt * (((x_G^2) * (m^2) * x_0[1] * x_0[3] - (N_H(x_0[1], x_0[2], x_0[3])+N_R(x_0[1], x_0[2], x_0[3], u1_val[1], u2_val[1])) * x_G * m +((Y_H(x_0[1], x_0[2], x_0[3]) + Y_R(x_0[1], x_0[2], x_0[3], u1_val[1], u2_val[1])) - (m + m_x) * x_0[1] * x_0[3]) * (I_zG + J_z + (x_G^2) * m)) / ((I_zG + J_z + (x_G^2) * m) * (m + m_y) - (x_G^2) * (m^2)))\n",
    "    r = x_0[3] + dt * ((N_H(x_0[1], x_0[2], x_0[3]) + N_R(x_0[1], x_0[2], x_0[3], u1_val[1], u2_val[1]) - x_G * m * (((x_G^2) * (m^2) * x_0[1] * x_0[3] - (N_H(x_0[1], x_0[2], x_0[3])+N_R(x_0[1], x_0[2], x_0[3], u1_val[1], u2_val[1])) * x_G * m +((Y_H(x_0[1], x_0[2], x_0[3]) + Y_R(x_0[1], x_0[2], x_0[3], u1_val[1], u2_val[1])) - (m + m_x) * x_0[1] * x_0[3]) * (I_zG + J_z + (x_G^2) * m)) / ((I_zG + J_z + (x_G^2) * m) * (m + m_y) - (x_G^2) * (m^2)) + x_0[1] * x_0[3])) / (I_zG + J_z + (x_G^2) * m))\n",
    "    \n",
    "    return (u_real-u)^2+(v_real-v)^2+(r_real-r)^2\n",
    "end   "
   ]
  },
  {
   "cell_type": "code",
   "execution_count": 26,
   "metadata": {},
   "outputs": [
    {
     "data": {
      "text/plain": [
       "run_mpc (generic function with 1 method)"
      ]
     },
     "metadata": {},
     "output_type": "display_data"
    }
   ],
   "source": [
    "function run_mpc(duration::Int, dt::Float64)\n",
    "    global R_0_dash, X_vv_dash, X_vr_dash, X_rr_dash, X_vvvv_dash\n",
    "    global Y_v_dash, Y_r_dash, Y_vvv_dash, Y_vvr_dash, Y_vrr_dash, Y_rrr_dash\n",
    "    global N_v_dash, N_r_dash, N_vvv_dash, N_vvr_dash, N_vrr_dash, N_rrr_dash\n",
    "\n",
    "    #観測データ\n",
    "    obs = CSV.read(\"./observation/suzaku_sim_data.csv\", DataFrame)\n",
    "        \n",
    "    # 初期値設定\n",
    "    x_0 = Vector(Float64[0.8, 0.0, 0.0, 0.0, 0.0, 0.0, 1.0, 0.0, -1.0, 0.0])\n",
    "    u1_0 = 0.0\n",
    "    u2_0 = 0.0\n",
    "\n",
    "    # データフレーム\n",
    "    cols = Int(duration/dt) + 1\n",
    "    df_x = DataFrame(\n",
    "        time = collect(0:dt:duration),\n",
    "        u = zeros(cols),\n",
    "        v = zeros(cols),\n",
    "        r = zeros(cols),\n",
    "        x = zeros(cols),\n",
    "        y = zeros(cols),\n",
    "        ψ = zeros(cols),\n",
    "        x1 = zeros(cols),\n",
    "        y1 = zeros(cols),\n",
    "        x2 = zeros(cols),\n",
    "        y2 = zeros(cols),\n",
    "        δ = zeros(cols),\n",
    "        n_p = zeros(cols),\n",
    "        R_0_dash = zeros(cols)\n",
    "    )\n",
    "\n",
    "    #初期値をデータフレームへ\n",
    "    df_x[1, 2:11] .= x_0\n",
    "    df_x[1, 12:13] .= [u1_0, u2_0]\n",
    "\n",
    "    # MPCの実行\n",
    "    @showprogress for t in 1:Int(duration/dt)\n",
    "        #MPCの結果\n",
    "        x_val, u1_val, u2_val = mpc(x_0, u1_0, u2_0, obs, t, N)\n",
    "\n",
    "        #制御量を真モデルに反映(実際の挙動)\n",
    "        u_real, v_real, r_real, x_real, y_real, ψ_real, x1_real, y1_real, x2_real, y2_real = realMMG(x_0, u1_val[1], u2_val[1])\n",
    "        \n",
    "        #MPC用モデルの微係数セット\n",
    "        params = [\n",
    "            [0.0160, -0.0639, 0.0813, -0.0141, 0.4563, -0.2969, 0.0576, -0.8428, 0.1656, -0.2045, 0.0176, -0.0878, -0.0422, -0.0426, -0.2290, -0.0165, -0.0157],\n",
    "            [0.0190, -0.0759, 0.0965, -0.0167, 0.5419, -0.3525, 0.0684, -1.0008, 0.1966, -0.2428, 0.0209, -0.1042, -0.0501, -0.0506, -0.2720, -0.0196, -0.0186],\n",
    "            [0.0220, -0.0879, 0.1118, -0.0194, 0.6274, -0.4082, 0.0792, -1.1589, 0.2277, -0.2812, 0.0242, -0.1207, -0.0580, -0.0586, -0.3149, -0.0227, -0.0216],\n",
    "            [0.0230, -0.0919, 0.1168, -0.0202, 0.6560, -0.4268, 0.0828, -1.2115, 0.2380, -0.2939, 0.0253, -0.1262, -0.0606, -0.0613, -0.3292, -0.0237, -0.0225]\n",
    "        ]\n",
    "\n",
    "        #微係数セットを用いたMMGと実際の挙動の誤差\n",
    "        results = [(MMG_error(p, x_0, u1_val[1], u2_val[1], u_real, v_real, r_real), p) for p in params]\n",
    "        \n",
    "        #誤差が最小となる微係数セットの探索\n",
    "        minimum_error = findmin(results)\n",
    "\n",
    "        #結果をデータフレームへ\n",
    "        df_x[t+1, 2:11] .= [u_real, v_real, r_real, x_real, y_real, ψ_real, x1_real, y1_real, x2_real, y2_real]\n",
    "        df_x[t+1, 12:14] .= [u1_val, u2_val, minimum_error[1][2][1]]\n",
    "        \n",
    "        #次のMPCに用いる初期値へ設定\n",
    "        x_0 = Vector([u_real, v_real, r_real, x_real, y_real, ψ_real, x1_real, y1_real, x2_real, y2_real]) \n",
    "        u1_0 = u1_val\n",
    "        u2_0 = u2_val\n",
    "\n",
    "        #次のMPCに用いる微係数\n",
    "        R_0_dash = minimum_error[1][2][1]\n",
    "        X_vv_dash = minimum_error[1][2][2]\n",
    "        X_vr_dash = minimum_error[1][2][3]\n",
    "        X_rr_dash = minimum_error[1][2][4]\n",
    "        X_vvvv_dash = minimum_error[1][2][5]\n",
    "        Y_v_dash = minimum_error[1][2][6]\n",
    "        Y_r_dash = minimum_error[1][2][7]\n",
    "        Y_vvv_dash = minimum_error[1][2][8]\n",
    "        Y_vvr_dash = minimum_error[1][2][9]\n",
    "        Y_vrr_dash = minimum_error[1][2][10]\n",
    "        Y_rrr_dash = minimum_error[1][2][11]\n",
    "        N_v_dash = minimum_error[1][2][12]\n",
    "        N_r_dash = minimum_error[1][2][13]\n",
    "        N_vvv_dash = minimum_error[1][2][14]\n",
    "        N_vvr_dash = minimum_error[1][2][15]\n",
    "        N_vrr_dash = minimum_error[1][2][16]\n",
    "        N_rrr_dash = minimum_error[1][2][17]\n",
    "    end\n",
    "\n",
    "    # 結果書き出し\n",
    "    CSV.write(\"./results/MPC_result.csv\", df_x)\n",
    "end"
   ]
  },
  {
   "cell_type": "code",
   "execution_count": 27,
   "metadata": {},
   "outputs": [
    {
     "name": "stderr",
     "output_type": "stream",
     "text": [
      "\u001b[32mProgress: 100%|█████████████████████████████████████████| Time: 0:03:44\u001b[39m\u001b[K\n"
     ]
    },
    {
     "data": {
      "text/plain": [
       "\"./results/MPC_result.csv\""
      ]
     },
     "metadata": {},
     "output_type": "display_data"
    }
   ],
   "source": [
    "N = 30 # 予測ホライゾン\n",
    "duration = 100 # 全体の計算時間\n",
    "dt = 0.5 # 刻み幅\n",
    "\n",
    "run_mpc(duration, dt)"
   ]
  }
 ],
 "metadata": {
  "kernelspec": {
   "display_name": "Julia 1.10.3",
   "language": "julia",
   "name": "julia-1.10"
  },
  "language_info": {
   "file_extension": ".jl",
   "mimetype": "application/julia",
   "name": "julia",
   "version": "1.10.3"
  }
 },
 "nbformat": 4,
 "nbformat_minor": 2
}
